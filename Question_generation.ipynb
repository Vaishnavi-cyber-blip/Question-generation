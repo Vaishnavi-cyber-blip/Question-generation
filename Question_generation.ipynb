{
  "nbformat": 4,
  "nbformat_minor": 0,
  "metadata": {
    "colab": {
      "provenance": [],
      "authorship_tag": "ABX9TyN1AZxRI8U+45y2BHBT+eas",
      "include_colab_link": true
    },
    "kernelspec": {
      "name": "python3",
      "display_name": "Python 3"
    },
    "language_info": {
      "name": "python"
    }
  },
  "cells": [
    {
      "cell_type": "markdown",
      "metadata": {
        "id": "view-in-github",
        "colab_type": "text"
      },
      "source": [
        "<a href=\"https://colab.research.google.com/github/Vaishnavi-cyber-blip/Question-generation/blob/main/Question_generation.ipynb\" target=\"_parent\"><img src=\"https://colab.research.google.com/assets/colab-badge.svg\" alt=\"Open In Colab\"/></a>"
      ]
    },
    {
      "cell_type": "code",
      "source": [
        "\n",
        "!pip install PdfReader\n",
        "!pip install -q -U google-generativeai"
      ],
      "metadata": {
        "id": "2bmsXSwbDKCR",
        "colab": {
          "base_uri": "https://localhost:8080/"
        },
        "outputId": "6590124b-94d6-4477-947c-89c8bdc78152"
      },
      "execution_count": null,
      "outputs": [
        {
          "output_type": "stream",
          "name": "stdout",
          "text": [
            "Collecting PdfReader\n",
            "  Downloading pdfreader-0.1.12.tar.gz (2.9 MB)\n",
            "\u001b[?25l     \u001b[90m━━━━━━━━━━━━━━━━━━━━━━━━━━━━━━━━━━━━━━━━\u001b[0m \u001b[32m0.0/2.9 MB\u001b[0m \u001b[31m?\u001b[0m eta \u001b[36m-:--:--\u001b[0m\r\u001b[2K     \u001b[91m━━━━\u001b[0m\u001b[90m╺\u001b[0m\u001b[90m━━━━━━━━━━━━━━━━━━━━━━━━━━━━━━━━━━━\u001b[0m \u001b[32m0.3/2.9 MB\u001b[0m \u001b[31m8.4 MB/s\u001b[0m eta \u001b[36m0:00:01\u001b[0m\r\u001b[2K     \u001b[91m━━━━━━━━━━━━━━━━━━━━━━━━━━━━━━━━━━━━━━━\u001b[0m\u001b[91m╸\u001b[0m \u001b[32m2.9/2.9 MB\u001b[0m \u001b[31m53.3 MB/s\u001b[0m eta \u001b[36m0:00:01\u001b[0m\r\u001b[2K     \u001b[90m━━━━━━━━━━━━━━━━━━━━━━━━━━━━━━━━━━━━━━━━\u001b[0m \u001b[32m2.9/2.9 MB\u001b[0m \u001b[31m33.5 MB/s\u001b[0m eta \u001b[36m0:00:00\u001b[0m\n",
            "\u001b[?25h  Preparing metadata (setup.py) ... \u001b[?25l\u001b[?25hdone\n",
            "Collecting bitarray>=1.1.0 (from PdfReader)\n",
            "  Downloading bitarray-2.9.2-cp310-cp310-manylinux_2_17_x86_64.manylinux2014_x86_64.whl (288 kB)\n",
            "\u001b[2K     \u001b[90m━━━━━━━━━━━━━━━━━━━━━━━━━━━━━━━━━━━━━━━━\u001b[0m \u001b[32m288.3/288.3 kB\u001b[0m \u001b[31m21.9 MB/s\u001b[0m eta \u001b[36m0:00:00\u001b[0m\n",
            "\u001b[?25hRequirement already satisfied: pillow>=7.1.0 in /usr/local/lib/python3.10/dist-packages (from PdfReader) (9.4.0)\n",
            "Collecting pycryptodome>=3.9.9 (from PdfReader)\n",
            "  Downloading pycryptodome-3.20.0-cp35-abi3-manylinux_2_17_x86_64.manylinux2014_x86_64.whl (2.1 MB)\n",
            "\u001b[2K     \u001b[90m━━━━━━━━━━━━━━━━━━━━━━━━━━━━━━━━━━━━━━━━\u001b[0m \u001b[32m2.1/2.1 MB\u001b[0m \u001b[31m52.8 MB/s\u001b[0m eta \u001b[36m0:00:00\u001b[0m\n",
            "\u001b[?25hRequirement already satisfied: python-dateutil>=2.8.1 in /usr/local/lib/python3.10/dist-packages (from PdfReader) (2.8.2)\n",
            "Requirement already satisfied: six>=1.5 in /usr/local/lib/python3.10/dist-packages (from python-dateutil>=2.8.1->PdfReader) (1.16.0)\n",
            "Building wheels for collected packages: PdfReader\n",
            "  Building wheel for PdfReader (setup.py) ... \u001b[?25l\u001b[?25hdone\n",
            "  Created wheel for PdfReader: filename=pdfreader-0.1.12-py3-none-any.whl size=134539 sha256=151b5c234d472af598a1d684c1d67bc3ac27bfaa94fe2c4c2b75b56a77d45240\n",
            "  Stored in directory: /root/.cache/pip/wheels/92/7d/f1/8b8a503d8b444a82e4c3c8b1230c02316c7579b90542de4495\n",
            "Successfully built PdfReader\n",
            "Installing collected packages: bitarray, pycryptodome, PdfReader\n",
            "Successfully installed PdfReader-0.1.12 bitarray-2.9.2 pycryptodome-3.20.0\n",
            "\u001b[2K     \u001b[90m━━━━━━━━━━━━━━━━━━━━━━━━━━━━━━━━━━━━━━━━\u001b[0m \u001b[32m137.4/137.4 kB\u001b[0m \u001b[31m3.6 MB/s\u001b[0m eta \u001b[36m0:00:00\u001b[0m\n",
            "\u001b[?25h"
          ]
        }
      ]
    },
    {
      "cell_type": "code",
      "source": [
        "!pip install PyPDF2"
      ],
      "metadata": {
        "colab": {
          "base_uri": "https://localhost:8080/"
        },
        "id": "F_YkkidYG3AU",
        "outputId": "48db217b-42bd-4e50-c116-fc2bdc663686"
      },
      "execution_count": null,
      "outputs": [
        {
          "output_type": "stream",
          "name": "stdout",
          "text": [
            "Collecting PyPDF2\n",
            "  Downloading pypdf2-3.0.1-py3-none-any.whl (232 kB)\n",
            "\u001b[?25l     \u001b[90m━━━━━━━━━━━━━━━━━━━━━━━━━━━━━━━━━━━━━━━━\u001b[0m \u001b[32m0.0/232.6 kB\u001b[0m \u001b[31m?\u001b[0m eta \u001b[36m-:--:--\u001b[0m\r\u001b[2K     \u001b[91m━━━━━━━━━━\u001b[0m\u001b[91m╸\u001b[0m\u001b[90m━━━━━━━━━━━━━━━━━━━━━━━━━━━━━\u001b[0m \u001b[32m61.4/232.6 kB\u001b[0m \u001b[31m1.6 MB/s\u001b[0m eta \u001b[36m0:00:01\u001b[0m\r\u001b[2K     \u001b[90m━━━━━━━━━━━━━━━━━━━━━━━━━━━━━━━━━━━━━━━━\u001b[0m \u001b[32m232.6/232.6 kB\u001b[0m \u001b[31m3.4 MB/s\u001b[0m eta \u001b[36m0:00:00\u001b[0m\n",
            "\u001b[?25hInstalling collected packages: PyPDF2\n",
            "Successfully installed PyPDF2-3.0.1\n"
          ]
        }
      ]
    },
    {
      "cell_type": "code",
      "execution_count": null,
      "metadata": {
        "colab": {
          "base_uri": "https://localhost:8080/",
          "height": 401
        },
        "id": "VTl06QWzCLrD",
        "outputId": "05799460-1acc-48c1-8fe4-c22d3870929d"
      },
      "outputs": [
        {
          "output_type": "stream",
          "name": "stdout",
          "text": [
            "**Technical Skills:**\n",
            "\n",
            "1. Describe your proficiency in Python, Java, and C++. Provide examples of projects where you've utilized these languages effectively.\n",
            "2. How would you approach the development of a machine learning model for predicting stock prices? Explain the key steps involved and the metrics you would use to evaluate its performance.\n",
            "3. Can you walk us through your experience with neural networks? Discuss a project where you applied neural networks to solve a real-world problem.\n",
            "\n",
            "**Relevant Experience:**\n",
            "\n",
            "4. How did you develop and implement the stock price predictor at Madras Scientific Research Foundation? Can you elaborate on the challenges you faced and the solutions you implemented?\n",
            "5. In your role at Madras Scientific Research Foundation, can you describe your contributions to refining the research methodology for neural style transfer?\n",
            "6. You mentioned leading a team of new hires. Can you discuss your approach to onboarding and mentoring, and how you ensured their successful integration into the team?\n",
            "\n",
            "**Problem-Solving Abilities:**\n",
            "\n",
            "7. Given a complex technical challenge, how do you approach the problem-solving process? Walk us through a specific example from your experience.\n",
            "8. Can you provide an example of a time when you had to quickly learn a new skill or technology to complete a project? How did you approach this learning process?\n",
            "\n",
            "**Teamwork and Communication Skills:**\n",
            "\n",
            "9. How do you foster collaboration and communication within a team environment? Provide examples of specific techniques you've employed to enhance team effectiveness.\n",
            "10. Can you share an experience where you had to communicate complex technical concepts to non-technical stakeholders? How did you tailor your communication to ensure their understanding?\n"
          ]
        }
      ],
      "source": [
        "import google.generativeai as genai\n",
        "from PyPDF2 import PdfReader\n",
        "\n",
        "\n",
        "# Used to securely store your API key\n",
        "from google.colab import userdata\n",
        "\n",
        "# Or use `os.getenv('GOOGLE_API_KEY')` to fetch an environment variable.\n",
        "GOOGLE_API_KEY=userdata.get('GOOGLE_API_KEY')\n",
        "genai.configure(api_key=GOOGLE_API_KEY)\n",
        "\n",
        "\n",
        "def model(input_text):\n",
        "    model = genai.GenerativeModel('gemini-pro')\n",
        "    response = model.generate_content(input_text)\n",
        "    return response.text\n",
        "\n",
        "def get_pdf_text(pdf_docs):\n",
        "    text = \"\"\n",
        "    for pdf in pdf_docs:\n",
        "        pdf_reader = PdfReader(open(pdf, \"rb\"))\n",
        "        for page in pdf_reader.pages:\n",
        "            text += page.extract_text()\n",
        "    return text\n",
        "\n",
        "\n",
        "\n",
        "def question(resume_text, job_description_text):\n",
        "    input_text = f\"\"\"\n",
        "    Title: Real-time Interview Question Generation based on Job Description and Resume\n",
        "\n",
        "    Description:\n",
        "    You are tasked with generating interview questions in real-time for a job candidate based on a provided job description and resume. Your goal is to create a set of insightful and relevant questions that assess the candidate's qualifications, skills, and experience as they relate to the job requirements.\n",
        "\n",
        "    Job Description:\n",
        "    [Insert job title and brief description of the role here, including key responsibilities, required qualifications, and desired skills.]\n",
        "\n",
        "    Resume:\n",
        "    [Insert details from the candidate's resume here, including their education, work experience, skills, and achievements.]\n",
        "\n",
        "    Prompt:\n",
        "    Given the provided job description and resume, generate a series of interview questions that probe the candidate's suitability for the position. Your questions should cover a range of topics, including technical skills, relevant experience, problem-solving abilities, teamwork, and communication skills.\n",
        "\n",
        "    Sample Interview Questions:\n",
        "    1. Based on your experience listed in the resume, can you provide examples of projects or tasks that demonstrate your proficiency in [relevant skill]?\n",
        "    2. How would you approach [specific responsibility mentioned in the job description] based on your previous experience?\n",
        "    3. Can you discuss a challenging situation you encountered in a previous role and how you resolved it?\n",
        "    4. The job description mentions [specific technology or tool]. Can you describe your experience with this technology and how you've used it in past projects?\n",
        "    5. How do you prioritize tasks and manage your time effectively when faced with multiple deadlines?\n",
        "    6. Communication skills are essential for this role. Can you provide examples of how you've effectively communicated complex ideas or technical concepts to non-technical stakeholders?\n",
        "    7. The job requires collaborating with cross-functional teams. Can you discuss a successful collaboration experience and your role in achieving the team's goals?\n",
        "    8. How do you stay updated on industry trends and advancements relevant to this position?\n",
        "    9. Describe a situation where you had to quickly learn a new skill or technology to complete a project.\n",
        "    10. Can you provide examples of your leadership abilities and how you've motivated or mentored team members in the past?\n",
        "\n",
        "    Instructions:\n",
        "    Using the provided prompt, generate interview questions tailored to the candidate's background and the requirements of the job description. Focus on creating questions that prompt detailed responses and provide insights into the candidate's qualifications and fit for the role. Once generated, review the questions for relevance, clarity, and effectiveness in evaluating the candidate's suitability for the position.\n",
        "\n",
        "    resume: {resume_text}\n",
        "    job_description: {job_description_text}\n",
        "    \"\"\"\n",
        "    response = model(input_text)\n",
        "    return response\n",
        "\n",
        "#Sample input\n",
        "pdf_texts = [\"Software_Engineer_Resume.pdf\", \"VY_Resume.pdf\"]\n",
        "combined_text = get_pdf_text(pdf_texts)\n",
        "\n",
        "job_description_text = \"\"\"\n",
        "Technical Human Resource Manager Job Description:\n",
        "- Minimum of 5 years of experience in technical recruiting.\n",
        "- Strong knowledge of software engineering principles.\n",
        "- Experience in developing and implementing HR strategies.\n",
        "- Excellent communication and interpersonal skills.\n",
        "\"\"\"\n",
        "\n",
        "questions = question(combined_text, job_description_text)\n",
        "print(questions)\n",
        "\n",
        "\n",
        "# GOOGLE_API_KEY=userdata.get('GOOGLE_API_KEY')\n",
        "\n",
        "# genai.configure(api_key=GOOGLE_API_KEY)\n"
      ]
    }
  ]
}